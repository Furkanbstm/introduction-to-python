{
  "nbformat": 4,
  "nbformat_minor": 0,
  "metadata": {
    "colab": {
      "name": "Untitled3.ipynb",
      "provenance": [],
      "collapsed_sections": [],
      "authorship_tag": "ABX9TyNO+3ULaKKJ/JOTfaYKfWxL",
      "include_colab_link": true
    },
    "kernelspec": {
      "name": "python3",
      "display_name": "Python 3"
    }
  },
  "cells": [
    {
      "cell_type": "markdown",
      "metadata": {
        "id": "view-in-github",
        "colab_type": "text"
      },
      "source": [
        "<a href=\"https://colab.research.google.com/github/Furkanbstm/introduction-to-python/blob/master/Untitled3.ipynb\" target=\"_parent\"><img src=\"https://colab.research.google.com/assets/colab-badge.svg\" alt=\"Open In Colab\"/></a>"
      ]
    },
    {
      "cell_type": "code",
      "metadata": {
        "id": "ljOXw5MrfJV9",
        "colab": {
          "base_uri": "https://localhost:8080/"
        },
        "outputId": "66ec93e3-52ad-46d7-94f4-6f18ff8c0c6c"
      },
      "source": [
        "\r\n",
        "\r\n",
        "\r\n",
        "list_of_evens = [0, 2, 4]\r\n",
        "list_of_odds = [1, 3, 5]\r\n",
        "list_of_both = list_of_evens + list_of_odds\r\n",
        "\r\n",
        "list_of_both = list_of_evens + list_of_odds\r\n",
        "\r\n",
        "list_of_merge = list_of_both.sort()\r\n",
        "\r\n",
        "final_liste = list(list_of_both)\r\n",
        "\r\n",
        "final_list = list([ i*2 for i in list_of_both])\r\n",
        "\r\n",
        "\r\n",
        "for i in final_list:\r\n",
        "    print(i)"
      ],
      "execution_count": 6,
      "outputs": [
        {
          "output_type": "stream",
          "text": [
            "0\n",
            "2\n",
            "4\n",
            "6\n",
            "8\n",
            "10\n"
          ],
          "name": "stdout"
        }
      ]
    },
    {
      "cell_type": "code",
      "metadata": {
        "colab": {
          "base_uri": "https://localhost:8080/"
        },
        "id": "cIpR_ucwp190",
        "outputId": "2303e9fc-acb3-4ce7-eb41-470b935318c1"
      },
      "source": [
        "\r\n",
        "d_0= {\"AD-SOYAD\":\"ALİ HAN\",\"ÜNİVERSİTE\":\"ODTÜ\",\"ORT\":\"3.7\",\"ALAN\":\"HR\"}\r\n",
        "d_1= {\"AD-SOYAD\":\"CAN YILMAZ\",\"ÜNİVERSİTE\":\"GAZİ ÜNİ.\",\"ORT\":\"3.4\",\"ALAN\":\"SALES\"}\r\n",
        "d_2= {\"AD-SOYAD\":\"MEHMET TARAN\",\"ÜNİVERSİTE\":\"YTÜ\",\"ORT\":\"3.5\",\"ALAN\":\"BD\"}\r\n",
        "d_3= {\"AD-SOYAD\":\"YILDIZ KILIÇ\",\"ÜNİVERSİTE\":\"İTÜ\",\"ORT\":\"3.1\",\"ALAN\":\"IT\"}\r\n",
        "d_4= {\"AD-SOYAD\":\"İPEK ÖZ\",\"ÜNİVERSİTE\":\"KTÜ\",\"ORT\":\"2.9\",\"ALAN\":\"PRODUCT MANAGEMENT\"}\r\n",
        "for L in d_0.values():\r\n",
        "  print(L)\r\n",
        "for L in d_1.values():\r\n",
        "  print(L)\r\n",
        "for L in d_2.values():\r\n",
        "  print(L)\r\n",
        "for L in d_3.values():\r\n",
        "  print(L)\r\n",
        "for L in d_4.values():\r\n",
        "  print(L)\r\n"
      ],
      "execution_count": 22,
      "outputs": [
        {
          "output_type": "stream",
          "text": [
            "ALİ HAN\n",
            "ODTÜ\n",
            "3.7\n",
            "HR\n",
            "CAN YILMAZ\n",
            "GAZİ ÜNİ.\n",
            "3.4\n",
            "SALES\n",
            "MEHMET TARAN\n",
            "YTÜ\n",
            "3.5\n",
            "BD\n",
            "YILDIZ KILIÇ\n",
            "İTÜ\n",
            "3.1\n",
            "IT\n",
            "İPEK ÖZ\n",
            "KTÜ\n",
            "2.9\n",
            "PRODUCT MANAGEMENT\n"
          ],
          "name": "stdout"
        }
      ]
    },
    {
      "cell_type": "code",
      "metadata": {
        "colab": {
          "base_uri": "https://localhost:8080/"
        },
        "id": "zsWvrqZK6qDr",
        "outputId": "691c4f02-8271-4fbc-ed46-204f93b89b4e"
      },
      "source": [
        "more= True\r\n",
        "while more == True:\r\n",
        " Ad =str(input('isim giriniz: '))\r\n",
        " Ara_sınav =int(input('Ara sınav notu : '))\r\n",
        " Proje_notu=int(input('Proje notu : '))\r\n",
        " Final_notu=int(input('Final notu : '))\r\n",
        " Geçme_notu=(int(Ara_sınav)*(0.3))+(int(Proje_notu)*(0.3))+(int(Final_notu)*(0.4))\r\n",
        " print(\"Geçme notu :{0} \".format(Geçme_notu))\r\n",
        " if(Geçme_notu<50):\r\n",
        "      print(\"Kaldınız\")\r\n",
        " elif(75>Geçme_notu>=50):\r\n",
        "      print(\"notunuz cc\")\r\n",
        " elif(85>Geçme_notu>=75):\r\n",
        "      print(\"notunuz BB\")\r\n",
        " else:\r\n",
        "      print(\"AA ile Geçtiniz\")\r\n",
        " print(Geçme_notu)\r\n",
        " a = input(\"Devam edecek misiniz? evet/hayır \")\r\n",
        "if a!=\"evet\":\r\n",
        "       more=False\r\n",
        "        "
      ],
      "execution_count": null,
      "outputs": [
        {
          "output_type": "stream",
          "text": [
            "isim giriniz: furkan\n",
            "Ara sınav notu : 82\n",
            "Proje notu : 54\n",
            "Final notu : 92\n",
            "Geçme notu :77.6 \n",
            "notunuz BB\n",
            "77.6\n",
            "Devam edecek misiniz? evet/hayır evet\n",
            "isim giriniz: ali\n",
            "Ara sınav notu : 90\n",
            "Proje notu : 90\n",
            "Final notu : 90\n",
            "Geçme notu :90.0 \n",
            "AA ile Geçtiniz\n",
            "90.0\n",
            "Devam edecek misiniz? evet/hayır evet\n",
            "isim giriniz: mehmet\n",
            "Ara sınav notu : 85\n",
            "Proje notu : 0\n",
            "Final notu : 0\n",
            "Geçme notu :25.5 \n",
            "Kaldınız\n",
            "25.5\n"
          ],
          "name": "stdout"
        }
      ]
    },
    {
      "cell_type": "code",
      "metadata": {
        "colab": {
          "base_uri": "https://localhost:8080/",
          "height": 129
        },
        "id": "ehfdLSrkQMkj",
        "outputId": "b9b33840-17cc-4248-ab68-c9437d06f168"
      },
      "source": [
        ""
      ],
      "execution_count": 56,
      "outputs": [
        {
          "output_type": "error",
          "ename": "SyntaxError",
          "evalue": "ignored",
          "traceback": [
            "\u001b[0;36m  File \u001b[0;32m\"<ipython-input-56-3803b1f90cee>\"\u001b[0;36m, line \u001b[0;32m8\u001b[0m\n\u001b[0;31m    print(\"Midterm grade cannot be lower than 0 !!\")\u001b[0m\n\u001b[0m        ^\u001b[0m\n\u001b[0;31mSyntaxError\u001b[0m\u001b[0;31m:\u001b[0m invalid syntax\n"
          ]
        }
      ]
    },
    {
      "cell_type": "code",
      "metadata": {
        "id": "uQtvR_2I04Nc"
      },
      "source": [
        ""
      ],
      "execution_count": null,
      "outputs": []
    }
  ]
}